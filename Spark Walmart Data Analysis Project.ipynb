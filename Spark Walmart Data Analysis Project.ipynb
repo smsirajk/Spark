{
 "metadata": {
  "anaconda-cloud": {},
  "kernelspec": {
   "display_name": "Python 3",
   "language": "python",
   "name": "python3"
  },
  "language_info": {
   "codemirror_mode": {
    "name": "ipython",
    "version": 3
   },
   "file_extension": ".py",
   "mimetype": "text/x-python",
   "name": "python",
   "nbconvert_exporter": "python",
   "pygments_lexer": "ipython3",
   "version": "3.6.0"
  },
  "name": "",
  "signature": "sha256:19b311f98ad865e133cb920d05f6629b61262bbd370453c7ab4411cbdcfe9117"
 },
 "nbformat": 3,
 "nbformat_minor": 0,
 "worksheets": [
  {
   "cells": [
    {
     "cell_type": "heading",
     "level": 1,
     "metadata": {},
     "source": [
      "Spark Walmart Data Analysis Project Exercise "
     ]
    },
    {
     "cell_type": "markdown",
     "metadata": {},
     "source": [
      "Let's get some quick practice with your new Spark DataFrame skills, you will be asked some basic questions about some stock market data, in this case Walmart Stock from the years 2012-2017. This exercise will just ask a bunch of questions, unlike the future machine learning exercises, which will be a little looser and be in the form of \"Consulting Projects\", but more on that later!\n",
      "\n",
      "For now, just answer the questions and complete the tasks below."
     ]
    },
    {
     "cell_type": "heading",
     "level": 4,
     "metadata": {},
     "source": [
      "Use the walmart_stock.csv file to Answer and complete the  tasks below!"
     ]
    },
    {
     "cell_type": "heading",
     "level": 4,
     "metadata": {},
     "source": [
      "Start a simple Spark Session"
     ]
    },
    {
     "cell_type": "code",
     "collapsed": true,
     "input": [
      "import findspark\n",
      "findspark.init('/home/jubinsoni/spark-2.1.0-bin-hadoop2.7')\n",
      "\n",
      "from pyspark.sql import SparkSession\n",
      "\n",
      "spark = SparkSession.builder.appName('walmart').getOrCreate()"
     ],
     "language": "python",
     "metadata": {},
     "outputs": [],
     "prompt_number": 2
    },
    {
     "cell_type": "heading",
     "level": 4,
     "metadata": {},
     "source": [
      "Load the Walmart Stock CSV File, have Spark infer the data types."
     ]
    },
    {
     "cell_type": "code",
     "collapsed": true,
     "input": [
      "df = spark.read.csv('walmart_stock.csv', inferSchema=True, header=True)"
     ],
     "language": "python",
     "metadata": {},
     "outputs": [],
     "prompt_number": 3
    },
    {
     "cell_type": "heading",
     "level": 4,
     "metadata": {},
     "source": [
      "What are the column names?"
     ]
    },
    {
     "cell_type": "code",
     "collapsed": false,
     "input": [
      "df.columns"
     ],
     "language": "python",
     "metadata": {},
     "outputs": [
      {
       "metadata": {},
       "output_type": "pyout",
       "prompt_number": 4,
       "text": [
        "['Date', 'Open', 'High', 'Low', 'Close', 'Volume', 'Adj Close']"
       ]
      }
     ],
     "prompt_number": 4
    },
    {
     "cell_type": "heading",
     "level": 4,
     "metadata": {},
     "source": [
      "What does the Schema look like?"
     ]
    },
    {
     "cell_type": "code",
     "collapsed": false,
     "input": [
      "df.printSchema()"
     ],
     "language": "python",
     "metadata": {},
     "outputs": [
      {
       "output_type": "stream",
       "stream": "stdout",
       "text": [
        "root\n",
        " |-- Date: timestamp (nullable = true)\n",
        " |-- Open: double (nullable = true)\n",
        " |-- High: double (nullable = true)\n",
        " |-- Low: double (nullable = true)\n",
        " |-- Close: double (nullable = true)\n",
        " |-- Volume: integer (nullable = true)\n",
        " |-- Adj Close: double (nullable = true)\n",
        "\n"
       ]
      }
     ],
     "prompt_number": 5
    },
    {
     "cell_type": "heading",
     "level": 4,
     "metadata": {},
     "source": [
      "Print out the first 5 columns."
     ]
    },
    {
     "cell_type": "heading",
     "level": 4,
     "metadata": {},
     "source": [
      "Use describe() to learn about the DataFrame."
     ]
    },
    {
     "cell_type": "code",
     "collapsed": false,
     "input": [
      "df.describe().show()"
     ],
     "language": "python",
     "metadata": {},
     "outputs": [
      {
       "output_type": "stream",
       "stream": "stdout",
       "text": [
        "+-------+------------------+-----------------+-----------------+-----------------+-----------------+-----------------+\n",
        "|summary|              Open|             High|              Low|            Close|           Volume|        Adj Close|\n",
        "+-------+------------------+-----------------+-----------------+-----------------+-----------------+-----------------+\n",
        "|  count|              1258|             1258|             1258|             1258|             1258|             1258|\n",
        "|   mean| 72.35785375357709|72.83938807631165| 71.9186009594594|72.38844998012726|8222093.481717011|67.23883848728146|\n",
        "| stddev|  6.76809024470826|6.768186808159218|6.744075756255496|6.756859163732991|  4519780.8431556|6.722609449996857|\n",
        "|    min|56.389998999999996|        57.060001|        56.299999|        56.419998|          2094900|        50.363689|\n",
        "|    max|         90.800003|        90.970001|            89.25|        90.470001|         80898100|84.91421600000001|\n",
        "+-------+------------------+-----------------+-----------------+-----------------+-----------------+-----------------+\n",
        "\n"
       ]
      }
     ],
     "prompt_number": 10
    },
    {
     "cell_type": "markdown",
     "metadata": {},
     "source": [
      "## Bonus Question!\n",
      "#### There are too many decimal places for mean and stddev in the describe() dataframe. Format the numbers to just show up to two decimal places. Pay careful attention to the datatypes that .describe() returns, we didn't cover how to do this exact formatting, but we covered something very similar. [Check this link for a hint](http://spark.apache.org/docs/latest/api/python/pyspark.sql.html#pyspark.sql.Column.cast)\n",
      "\n",
      "If you get stuck on this, don't worry, just view the solutions."
     ]
    },
    {
     "cell_type": "code",
     "collapsed": false,
     "input": [
      "'''\n",
      "from pyspark.sql.types import (StructField, StringType,\n",
      "                               IntegerType, StructType)\n",
      "\n",
      "data_schema = [StructField('summary', StringType(), True),\n",
      "               StructField('Open', StringType(), True),\n",
      "               StructField('High', StringType(), True),\n",
      "               StructField('Low', StringType(), True),\n",
      "               StructField('Close', StringType(), True),\n",
      "               StructField('Volume', StringType(), True),\n",
      "               StructField('Adj Close', StringType(), True)\n",
      "              ]\n",
      "\n",
      "final_struc = StructType(fields=data_schema)\n",
      "\n",
      "'''\n",
      "df = spark.read.csv('walmart_stock.csv', inferSchema=True, header=True)\n",
      "\n",
      "df.printSchema()\n",
      "#The schema given below is wrong, as it is mostly from an older version.\n",
      "#Spark is able to predict the schema correctly now"
     ],
     "language": "python",
     "metadata": {},
     "outputs": [
      {
       "output_type": "stream",
       "stream": "stdout",
       "text": [
        "root\n",
        " |-- Date: timestamp (nullable = true)\n",
        " |-- Open: double (nullable = true)\n",
        " |-- High: double (nullable = true)\n",
        " |-- Low: double (nullable = true)\n",
        " |-- Close: double (nullable = true)\n",
        " |-- Volume: integer (nullable = true)\n",
        " |-- Adj Close: double (nullable = true)\n",
        "\n"
       ]
      }
     ],
     "prompt_number": 25
    },
    {
     "cell_type": "code",
     "collapsed": false,
     "input": [
      "from pyspark.sql.functions import format_number\n",
      "\n",
      "summary = df.describe()\n",
      "summary.select(summary['summary'],\n",
      "                  format_number(summary['Open'].cast('float'), 2).alias('Open'),\n",
      "                  format_number(summary['High'].cast('float'), 2).alias('High'),\n",
      "                  format_number(summary['Low'].cast('float'), 2).alias('Low'),\n",
      "                  format_number(summary['Close'].cast('float'), 2).alias('Close'),\n",
      "                  format_number(summary['Volume'].cast('int'),0).alias('Volume')\n",
      "                 ).show()"
     ],
     "language": "python",
     "metadata": {},
     "outputs": [
      {
       "output_type": "stream",
       "stream": "stdout",
       "text": [
        "+-------+--------+--------+--------+--------+----------+\n",
        "|summary|    Open|    High|     Low|   Close|    Volume|\n",
        "+-------+--------+--------+--------+--------+----------+\n",
        "|  count|1,258.00|1,258.00|1,258.00|1,258.00|     1,258|\n",
        "|   mean|   72.36|   72.84|   71.92|   72.39| 8,222,093|\n",
        "| stddev|    6.77|    6.77|    6.74|    6.76| 4,519,781|\n",
        "|    min|   56.39|   57.06|   56.30|   56.42| 2,094,900|\n",
        "|    max|   90.80|   90.97|   89.25|   90.47|80,898,100|\n",
        "+-------+--------+--------+--------+--------+----------+\n",
        "\n"
       ]
      }
     ],
     "prompt_number": 38
    },
    {
     "cell_type": "heading",
     "level": 4,
     "metadata": {},
     "source": [
      "Create a new dataframe with a column called HV Ratio that is the ratio of the High Price versus volume of stock traded for a day."
     ]
    },
    {
     "cell_type": "code",
     "collapsed": false,
     "input": [
      "df_hv = df.withColumn('HV Ratio', df['High']/df['Volume']).select(['HV Ratio'])\n",
      "df_hv.show()"
     ],
     "language": "python",
     "metadata": {},
     "outputs": [
      {
       "output_type": "stream",
       "stream": "stdout",
       "text": [
        "+--------------------+\n",
        "|            HV Ratio|\n",
        "+--------------------+\n",
        "|4.819714653321546E-6|\n",
        "|6.290848613094555E-6|\n",
        "|4.669412994783916E-6|\n",
        "|7.367338463826307E-6|\n",
        "|8.915604778943901E-6|\n",
        "|8.644477436914568E-6|\n",
        "|9.351828421515645E-6|\n",
        "| 8.29141562102703E-6|\n",
        "|7.712212102001476E-6|\n",
        "|7.071764823529412E-6|\n",
        "|1.015495466386981E-5|\n",
        "|6.576354146362592...|\n",
        "| 5.90145296180676E-6|\n",
        "|8.547679455011844E-6|\n",
        "|8.420709512685392E-6|\n",
        "|1.041448341728929...|\n",
        "|8.316075414862431E-6|\n",
        "|9.721183814992126E-6|\n",
        "|8.029436027707578E-6|\n",
        "|6.307432259386365E-6|\n",
        "+--------------------+\n",
        "only showing top 20 rows\n",
        "\n"
       ]
      }
     ],
     "prompt_number": 46
    },
    {
     "cell_type": "heading",
     "level": 4,
     "metadata": {},
     "source": [
      "What day had the Peak High in Price?"
     ]
    },
    {
     "cell_type": "code",
     "collapsed": false,
     "input": [
      "df.orderBy(df['High'].desc()).select(['Date']).head(1)[0]['Date']"
     ],
     "language": "python",
     "metadata": {},
     "outputs": [
      {
       "metadata": {},
       "output_type": "pyout",
       "prompt_number": 61,
       "text": [
        "datetime.datetime(2015, 1, 13, 0, 0)"
       ]
      }
     ],
     "prompt_number": 61
    },
    {
     "cell_type": "heading",
     "level": 4,
     "metadata": {},
     "source": [
      "What is the mean of the Close column?"
     ]
    },
    {
     "cell_type": "code",
     "collapsed": false,
     "input": [
      "from pyspark.sql.functions import mean\n",
      "\n",
      "df.select(mean('Close')).show()"
     ],
     "language": "python",
     "metadata": {},
     "outputs": [
      {
       "output_type": "stream",
       "stream": "stdout",
       "text": [
        "+-----------------+\n",
        "|       avg(Close)|\n",
        "+-----------------+\n",
        "|72.38844998012726|\n",
        "+-----------------+\n",
        "\n"
       ]
      }
     ],
     "prompt_number": 90
    },
    {
     "cell_type": "heading",
     "level": 4,
     "metadata": {},
     "source": [
      "What is the max and min of the Volume column?"
     ]
    },
    {
     "cell_type": "code",
     "collapsed": false,
     "input": [
      "from pyspark.sql.functions import min, max\n",
      "\n",
      "df.select(max('Volume'),min('Volume')).show()"
     ],
     "language": "python",
     "metadata": {},
     "outputs": [
      {
       "output_type": "stream",
       "stream": "stdout",
       "text": [
        "+-----------+-----------+\n",
        "|max(Volume)|min(Volume)|\n",
        "+-----------+-----------+\n",
        "|   80898100|    2094900|\n",
        "+-----------+-----------+\n",
        "\n"
       ]
      }
     ],
     "prompt_number": 92
    },
    {
     "cell_type": "heading",
     "level": 4,
     "metadata": {},
     "source": [
      "How many days was the Close lower than 60 dollars?"
     ]
    },
    {
     "cell_type": "code",
     "collapsed": false,
     "input": [
      "df.filter(df['Close'] < 60).count()"
     ],
     "language": "python",
     "metadata": {},
     "outputs": [
      {
       "metadata": {},
       "output_type": "pyout",
       "prompt_number": 101,
       "text": [
        "81"
       ]
      }
     ],
     "prompt_number": 101
    },
    {
     "cell_type": "markdown",
     "metadata": {},
     "source": [
      "#### What percentage of the time was the High greater than 80 dollars ?\n",
      "#### In other words, (Number of Days High>80)/(Total Days in the dataset)"
     ]
    },
    {
     "cell_type": "code",
     "collapsed": false,
     "input": [
      "df.filter('High > 80').count() * 100/df.count()"
     ],
     "language": "python",
     "metadata": {},
     "outputs": [
      {
       "metadata": {},
       "output_type": "pyout",
       "prompt_number": 105,
       "text": [
        "9.141494435612083"
       ]
      }
     ],
     "prompt_number": 105
    },
    {
     "cell_type": "markdown",
     "metadata": {},
     "source": [
      "#### What is the Pearson correlation between High and Volume?\n",
      "#### [Hint](http://spark.apache.org/docs/latest/api/python/pyspark.sql.html#pyspark.sql.DataFrameStatFunctions.corr)"
     ]
    },
    {
     "cell_type": "code",
     "collapsed": false,
     "input": [
      "df.corr('High', 'Volume')"
     ],
     "language": "python",
     "metadata": {},
     "outputs": [
      {
       "metadata": {},
       "output_type": "pyout",
       "prompt_number": 113,
       "text": [
        "-0.3384326061737161"
       ]
      }
     ],
     "prompt_number": 113
    },
    {
     "cell_type": "code",
     "collapsed": false,
     "input": [
      "from pyspark.sql.functions import corr\n",
      "\n",
      "df.select(corr(df['High'], df['Volume'])).show()"
     ],
     "language": "python",
     "metadata": {},
     "outputs": [
      {
       "output_type": "stream",
       "stream": "stdout",
       "text": [
        "+-------------------+\n",
        "| corr(High, Volume)|\n",
        "+-------------------+\n",
        "|-0.3384326061737161|\n",
        "+-------------------+\n",
        "\n"
       ]
      }
     ],
     "prompt_number": 114
    },
    {
     "cell_type": "heading",
     "level": 4,
     "metadata": {},
     "source": [
      "What is the max High per year?"
     ]
    },
    {
     "cell_type": "code",
     "collapsed": false,
     "input": [
      "from pyspark.sql.functions import (dayofmonth, hour,\n",
      "                                   dayofyear, month,\n",
      "                                   year, weekofyear,\n",
      "                                  format_number, date_format)\n",
      "\n",
      "year_df = df.withColumn('Year', year(df['Date']))\n",
      "\n",
      "year_df.groupBy('Year').max()['Year', 'max(High)'].show()"
     ],
     "language": "python",
     "metadata": {},
     "outputs": [
      {
       "output_type": "stream",
       "stream": "stdout",
       "text": [
        "+----+---------+\n",
        "|Year|max(High)|\n",
        "+----+---------+\n",
        "|2015|90.970001|\n",
        "|2013|81.370003|\n",
        "|2014|88.089996|\n",
        "|2012|77.599998|\n",
        "|2016|75.190002|\n",
        "+----+---------+\n",
        "\n"
       ]
      }
     ],
     "prompt_number": 133
    },
    {
     "cell_type": "markdown",
     "metadata": {},
     "source": [
      "#### What is the average Close for each Calendar Month?\n",
      "#### In other words, across all the years, what is the average Close price for Jan,Feb, Mar, etc... Your result will have a value for each of these months. "
     ]
    },
    {
     "cell_type": "code",
     "collapsed": false,
     "input": [
      "#Create a new column Month from existing Date column\n",
      "month_df = df.withColumn('Month', month(df['Date']))\n",
      "\n",
      "#Group by month and take average of all other columns\n",
      "month_df = month_df.groupBy('Month').mean()\n",
      "\n",
      "#Sort by month\n",
      "month_df = month_df.orderBy('Month')\n",
      "\n",
      "#Display only month and avg(Close), the desired columns\n",
      "month_df['Month', 'avg(Close)'].show()"
     ],
     "language": "python",
     "metadata": {},
     "outputs": [
      {
       "output_type": "stream",
       "stream": "stdout",
       "text": [
        "+-----+-----------------+\n",
        "|Month|       avg(Close)|\n",
        "+-----+-----------------+\n",
        "|    1|71.44801958415842|\n",
        "|    2|  71.306804443299|\n",
        "|    3|71.77794377570092|\n",
        "|    4|72.97361900952382|\n",
        "|    5|72.30971688679247|\n",
        "|    6| 72.4953774245283|\n",
        "|    7|74.43971943925233|\n",
        "|    8|73.02981855454546|\n",
        "|    9|72.18411785294116|\n",
        "|   10|71.57854545454543|\n",
        "|   11| 72.1110893069307|\n",
        "|   12|72.84792478301885|\n",
        "+-----+-----------------+\n",
        "\n"
       ]
      }
     ],
     "prompt_number": 139
    },
    {
     "cell_type": "heading",
     "level": 1,
     "metadata": {},
     "source": [
      "Thank you!"
     ]
    }
   ],
   "metadata": {}
  }
 ]
}