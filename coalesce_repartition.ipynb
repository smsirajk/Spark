{
 "cells": [
  {
   "cell_type": "markdown",
   "metadata": {
    "application/vnd.databricks.v1+cell": {
     "cellMetadata": {},
     "inputWidgets": {},
     "nuid": "797ed646-18d4-4225-9a15-631e5a2dca05",
     "showTitle": false,
     "title": ""
    }
   },
   "source": [
    "#### difference between `coalesce` and `repartition`"
   ]
  },
  {
   "cell_type": "code",
   "execution_count": 0,
   "metadata": {
    "application/vnd.databricks.v1+cell": {
     "cellMetadata": {},
     "inputWidgets": {},
     "nuid": "04617757-13ce-4579-a739-2830fb616d9c",
     "showTitle": false,
     "title": ""
    }
   },
   "outputs": [],
   "source": [
    "rdd = sc.parallelize(range(10),4)"
   ]
  },
  {
   "cell_type": "code",
   "execution_count": 0,
   "metadata": {
    "application/vnd.databricks.v1+cell": {
     "cellMetadata": {},
     "inputWidgets": {},
     "nuid": "b9e3818a-e892-49ef-af36-edd87fdc7983",
     "showTitle": false,
     "title": ""
    }
   },
   "outputs": [
    {
     "data": {
      "text/plain": [
       "Out[2]: [[0, 1], [2, 3, 4], [5, 6], [7, 8, 9]]"
      ]
     },
     "metadata": {
      "application/vnd.databricks.v1+output": {
       "addedWidgets": {},
       "arguments": {},
       "data": "Out[2]: [[0, 1], [2, 3, 4], [5, 6], [7, 8, 9]]",
       "datasetInfos": [],
       "metadata": {},
       "removedWidgets": [],
       "type": "ansi"
      }
     },
     "output_type": "display_data"
    }
   ],
   "source": [
    "rdd.glom().collect()"
   ]
  },
  {
   "cell_type": "code",
   "execution_count": 0,
   "metadata": {
    "application/vnd.databricks.v1+cell": {
     "cellMetadata": {},
     "inputWidgets": {},
     "nuid": "9c21a2fc-79d0-4b7d-95ee-e7c1c5d7eb78",
     "showTitle": false,
     "title": ""
    }
   },
   "outputs": [],
   "source": [
    "rdd1 = rdd.coalesce(6,True)  # default it works for only decreasing no of partitions\n",
    "rdd2 = rdd.repartition(6) # it works for increasing/decreasing no of partitions"
   ]
  },
  {
   "cell_type": "code",
   "execution_count": 0,
   "metadata": {
    "application/vnd.databricks.v1+cell": {
     "cellMetadata": {},
     "inputWidgets": {},
     "nuid": "bb40746a-3560-462b-9c18-1abd7b976b38",
     "showTitle": false,
     "title": ""
    }
   },
   "outputs": [
    {
     "data": {
      "text/plain": [
       "original rdd :  [[0, 1], [2, 3, 4], [5, 6], [7, 8, 9]]\n",
       "coalesce 2 :  [[], [0, 1], [7, 8, 9], [], [5, 6], [2, 3, 4]]\n",
       "repartition 2  :  [[], [0, 1], [7, 8, 9], [], [5, 6], [2, 3, 4]]\n"
      ]
     },
     "metadata": {
      "application/vnd.databricks.v1+output": {
       "addedWidgets": {},
       "arguments": {},
       "data": "original rdd :  [[0, 1], [2, 3, 4], [5, 6], [7, 8, 9]]\ncoalesce 2 :  [[], [0, 1], [7, 8, 9], [], [5, 6], [2, 3, 4]]\nrepartition 2  :  [[], [0, 1], [7, 8, 9], [], [5, 6], [2, 3, 4]]\n",
       "datasetInfos": [],
       "metadata": {},
       "removedWidgets": [],
       "type": "ansi"
      }
     },
     "output_type": "display_data"
    }
   ],
   "source": [
    "print('original rdd : ',rdd.glom().collect())\n",
    "print('coalesce 2 : ',rdd1.glom().collect())\n",
    "print('repartition 2  : ',rdd2.glom().collect())"
   ]
  },
  {
   "cell_type": "code",
   "execution_count": 0,
   "metadata": {
    "application/vnd.databricks.v1+cell": {
     "cellMetadata": {},
     "inputWidgets": {},
     "nuid": "7d95383a-c9fa-43d5-bbcb-36f848fb1e82",
     "showTitle": false,
     "title": ""
    }
   },
   "outputs": [],
   "source": [
    "df = spark.read.csv(\"dbfs:/FileStore/tables/emp-4.csv\",header=True)"
   ]
  },
  {
   "cell_type": "code",
   "execution_count": 0,
   "metadata": {
    "application/vnd.databricks.v1+cell": {
     "cellMetadata": {},
     "inputWidgets": {},
     "nuid": "e3eb1044-2a07-4fa5-b5e6-954662c9a3d1",
     "showTitle": false,
     "title": ""
    }
   },
   "outputs": [],
   "source": [
    "from pyspark.sql.functions import spark_partition_id\n",
    "df1=df.repartition(4,\"DEPTNO\").withColumn(\"partition_id\",spark_partition_id())"
   ]
  },
  {
   "cell_type": "code",
   "execution_count": 0,
   "metadata": {
    "application/vnd.databricks.v1+cell": {
     "cellMetadata": {},
     "inputWidgets": {},
     "nuid": "557b6b81-b378-4e1a-8fb7-223236f697fc",
     "showTitle": false,
     "title": ""
    }
   },
   "outputs": [
    {
     "data": {
      "text/plain": [
       "+-----+------+---------+----+--------+----+----+------+------------+\n",
       "|EMPNO| ENAME|      JOB| MGR|HIREDATE| SAL|COMM|DEPTNO|partition_id|\n",
       "+-----+------+---------+----+--------+----+----+------+------------+\n",
       "| 1234|SEKHAR|   doctor|7777|    null| 667|  78|    80|           0|\n",
       "| 7369| SMITH|    CLERK|7902|17-12-80| 800|null|    20|           2|\n",
       "| 7566| JONES|  MANAGER|7839|02-04-81|2975|null|    20|           2|\n",
       "| 7788| SCOTT|  ANALYST|7566|19-04-87|3000|null|    20|           2|\n",
       "| 7876| ADAMS|    CLERK|7788|23-05-87|1100|null|    20|           2|\n",
       "| 7902|  FORD|  ANALYST|7566|03-12-81|3000|null|    20|           2|\n",
       "| 7499| ALLEN| SALESMAN|7698|20-02-81|1600| 300|    30|           3|\n",
       "| 7521|  WARD| SALESMAN|7698|22-02-81|1250| 500|    30|           3|\n",
       "| 7654|MARTIN| SALESMAN|7698|28-09-81|1250|1400|    30|           3|\n",
       "| 7698|   SGR|  MANAGER|7839|01-05-81|2850|null|    30|           3|\n",
       "| 7782|  RAVI|  MANAGER|7839|09-06-81|2450|null|    10|           3|\n",
       "| 7839|  KING|PRESIDENT|null|17-11-81|5000|null|    10|           3|\n",
       "| 7844|TURNER| SALESMAN|7698|08-09-81|1500|   0|    30|           3|\n",
       "| 7900| JAMES|    CLERK|7698|03-12-81| 950|null|    30|           3|\n",
       "| 7934|MILLER|    CLERK|7782|23-01-82|1300|null|    10|           3|\n",
       "+-----+------+---------+----+--------+----+----+------+------------+\n",
       "\n"
      ]
     },
     "metadata": {
      "application/vnd.databricks.v1+output": {
       "addedWidgets": {},
       "arguments": {},
       "data": "+-----+------+---------+----+--------+----+----+------+------------+\n|EMPNO| ENAME|      JOB| MGR|HIREDATE| SAL|COMM|DEPTNO|partition_id|\n+-----+------+---------+----+--------+----+----+------+------------+\n| 1234|SEKHAR|   doctor|7777|    null| 667|  78|    80|           0|\n| 7369| SMITH|    CLERK|7902|17-12-80| 800|null|    20|           2|\n| 7566| JONES|  MANAGER|7839|02-04-81|2975|null|    20|           2|\n| 7788| SCOTT|  ANALYST|7566|19-04-87|3000|null|    20|           2|\n| 7876| ADAMS|    CLERK|7788|23-05-87|1100|null|    20|           2|\n| 7902|  FORD|  ANALYST|7566|03-12-81|3000|null|    20|           2|\n| 7499| ALLEN| SALESMAN|7698|20-02-81|1600| 300|    30|           3|\n| 7521|  WARD| SALESMAN|7698|22-02-81|1250| 500|    30|           3|\n| 7654|MARTIN| SALESMAN|7698|28-09-81|1250|1400|    30|           3|\n| 7698|   SGR|  MANAGER|7839|01-05-81|2850|null|    30|           3|\n| 7782|  RAVI|  MANAGER|7839|09-06-81|2450|null|    10|           3|\n| 7839|  KING|PRESIDENT|null|17-11-81|5000|null|    10|           3|\n| 7844|TURNER| SALESMAN|7698|08-09-81|1500|   0|    30|           3|\n| 7900| JAMES|    CLERK|7698|03-12-81| 950|null|    30|           3|\n| 7934|MILLER|    CLERK|7782|23-01-82|1300|null|    10|           3|\n+-----+------+---------+----+--------+----+----+------+------------+\n\n",
       "datasetInfos": [],
       "metadata": {},
       "removedWidgets": [],
       "type": "ansi"
      }
     },
     "output_type": "display_data"
    }
   ],
   "source": [
    "df1.show()"
   ]
  },
  {
   "cell_type": "code",
   "execution_count": 0,
   "metadata": {
    "application/vnd.databricks.v1+cell": {
     "cellMetadata": {},
     "inputWidgets": {},
     "nuid": "c35430fc-a74e-4c66-b847-f4f0da0e726c",
     "showTitle": false,
     "title": ""
    }
   },
   "outputs": [
    {
     "data": {
      "text/plain": [
       "+-----+------+---------+----+--------+----+----+------+------------+\n",
       "|EMPNO| ENAME|      JOB| MGR|HIREDATE| SAL|COMM|DEPTNO|partition_id|\n",
       "+-----+------+---------+----+--------+----+----+------+------------+\n",
       "| 7902|  FORD|  ANALYST|7566|03-12-81|3000|null|    20|           0|\n",
       "| 7934|MILLER|    CLERK|7782|23-01-82|1300|null|    10|           0|\n",
       "| 7876| ADAMS|    CLERK|7788|23-05-87|1100|null|    20|           0|\n",
       "| 7499| ALLEN| SALESMAN|7698|20-02-81|1600| 300|    30|           0|\n",
       "| 7782|  RAVI|  MANAGER|7839|09-06-81|2450|null|    10|           1|\n",
       "| 7521|  WARD| SALESMAN|7698|22-02-81|1250| 500|    30|           1|\n",
       "| 1234|SEKHAR|   doctor|7777|    null| 667|  78|    80|           1|\n",
       "| 7839|  KING|PRESIDENT|null|17-11-81|5000|null|    10|           1|\n",
       "| 7844|TURNER| SALESMAN|7698|08-09-81|1500|   0|    30|           2|\n",
       "| 7566| JONES|  MANAGER|7839|02-04-81|2975|null|    20|           2|\n",
       "| 7900| JAMES|    CLERK|7698|03-12-81| 950|null|    30|           2|\n",
       "| 7369| SMITH|    CLERK|7902|17-12-80| 800|null|    20|           3|\n",
       "| 7788| SCOTT|  ANALYST|7566|19-04-87|3000|null|    20|           3|\n",
       "| 7698|   SGR|  MANAGER|7839|01-05-81|2850|null|    30|           3|\n",
       "| 7654|MARTIN| SALESMAN|7698|28-09-81|1250|1400|    30|           3|\n",
       "+-----+------+---------+----+--------+----+----+------+------------+\n",
       "\n"
      ]
     },
     "metadata": {
      "application/vnd.databricks.v1+output": {
       "addedWidgets": {},
       "arguments": {},
       "data": "+-----+------+---------+----+--------+----+----+------+------------+\n|EMPNO| ENAME|      JOB| MGR|HIREDATE| SAL|COMM|DEPTNO|partition_id|\n+-----+------+---------+----+--------+----+----+------+------------+\n| 7902|  FORD|  ANALYST|7566|03-12-81|3000|null|    20|           0|\n| 7934|MILLER|    CLERK|7782|23-01-82|1300|null|    10|           0|\n| 7876| ADAMS|    CLERK|7788|23-05-87|1100|null|    20|           0|\n| 7499| ALLEN| SALESMAN|7698|20-02-81|1600| 300|    30|           0|\n| 7782|  RAVI|  MANAGER|7839|09-06-81|2450|null|    10|           1|\n| 7521|  WARD| SALESMAN|7698|22-02-81|1250| 500|    30|           1|\n| 1234|SEKHAR|   doctor|7777|    null| 667|  78|    80|           1|\n| 7839|  KING|PRESIDENT|null|17-11-81|5000|null|    10|           1|\n| 7844|TURNER| SALESMAN|7698|08-09-81|1500|   0|    30|           2|\n| 7566| JONES|  MANAGER|7839|02-04-81|2975|null|    20|           2|\n| 7900| JAMES|    CLERK|7698|03-12-81| 950|null|    30|           2|\n| 7369| SMITH|    CLERK|7902|17-12-80| 800|null|    20|           3|\n| 7788| SCOTT|  ANALYST|7566|19-04-87|3000|null|    20|           3|\n| 7698|   SGR|  MANAGER|7839|01-05-81|2850|null|    30|           3|\n| 7654|MARTIN| SALESMAN|7698|28-09-81|1250|1400|    30|           3|\n+-----+------+---------+----+--------+----+----+------+------------+\n\n",
       "datasetInfos": [],
       "metadata": {},
       "removedWidgets": [],
       "type": "ansi"
      }
     },
     "output_type": "display_data"
    }
   ],
   "source": [
    "df1.show()"
   ]
  },
  {
   "cell_type": "code",
   "execution_count": 0,
   "metadata": {
    "application/vnd.databricks.v1+cell": {
     "cellMetadata": {},
     "inputWidgets": {},
     "nuid": "6b71192f-8ce5-452f-a0b9-048caab2ef8b",
     "showTitle": false,
     "title": ""
    }
   },
   "outputs": [],
   "source": []
  }
 ],
 "metadata": {
  "application/vnd.databricks.v1+notebook": {
   "dashboards": [],
   "language": "python",
   "notebookMetadata": {
    "pythonIndentUnit": 4
   },
   "notebookName": "coalesce_repartition",
   "notebookOrigID": 315031510024470,
   "widgets": {}
  },
  "kernelspec": {
   "display_name": "Python 3 (ipykernel)",
   "language": "python",
   "name": "python3"
  },
  "language_info": {
   "codemirror_mode": {
    "name": "ipython",
    "version": 3
   },
   "file_extension": ".py",
   "mimetype": "text/x-python",
   "name": "python",
   "nbconvert_exporter": "python",
   "pygments_lexer": "ipython3",
   "version": "3.11.5"
  }
 },
 "nbformat": 4,
 "nbformat_minor": 1
}
